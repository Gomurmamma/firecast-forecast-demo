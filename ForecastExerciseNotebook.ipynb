{
 "cells": [
  {
   "cell_type": "markdown",
   "metadata": {},
   "source": [
    "# Univariate Demand Forecasting of 911 CallS"
   ]
  },
  {
   "cell_type": "markdown",
   "metadata": {},
   "source": [
    "## Libraries"
   ]
  },
  {
   "cell_type": "code",
   "execution_count": null,
   "metadata": {},
   "outputs": [],
   "source": [
    "import pandas as pd"
   ]
  },
  {
   "cell_type": "code",
   "execution_count": null,
   "metadata": {},
   "outputs": [],
   "source": [
    "# Read CSV Data\n",
    "raw_data = pd.read_csv('CLT_FY18-24')\n",
    "\n",
    "# (Per PM Directions. 'Other' has potentially relevant fire calls too)\n",
    "# Filter for EMS\n",
    "ems_calldata = raw_data[raw_data['CauseCategory'] == 'EMS'].reset_index()\n",
    "\n",
    "# 'Dispatched' to hold value from pandas datetime func\n",
    "ems_calldata['Dispatched'] = pd.to_datetime(ems_calldata['Dispatched'])\n",
    "\n",
    "# Get Date from 'Dispatched'\n",
    "ems_calldata['Date'] = ems_calldata['Dispatched'].dt.date\n",
    "\n",
    "# Extract date info and time from 'Dispatched'\n",
    "ems_calldata['Date'] = ems_calldata['Dispatched'].dt.date\n",
    "ems_calldata['Year'] = ems_calldata['Dispatched'].dt.year\n",
    "ems_calldata['Month'] = ems_calldata['Dispatched'].dt.month\n",
    "ems_calldata['Day'] = ems_calldata['Dispatched'].dt.day\n",
    "ems_calldata['Time'] = ems_calldata['Dispatched'].dt.time\n",
    "\n",
    "# Sort by 'Dispatched'\n",
    "ems_calldata = ems_calldata.sort_values('datetime')\n",
    "\n",
    "# Organize by 'Dispatched' (per hour) and lat&lon\n",
    "ems_sorted_data = ems_calldata.groupby(['Latitude', 'Longitude', 'Time']).size().reset_index(name='Demand')\n",
    "\n",
    "# Call frequency by date\n",
    "freq_count = ems_calldata.groupby('Date').size().reset_index(name='Count')\n",
    "\n",
    "freq_count\n"
   ]
  },
  {
   "cell_type": "markdown",
   "metadata": {},
   "source": [
    "## Model Building - LTSM"
   ]
  },
  {
   "cell_type": "code",
   "execution_count": null,
   "metadata": {},
   "outputs": [],
   "source": [
    "ems_calldata.set_index('Date', inplace=True)\n",
    "\n",
    "# Adding features\n",
    "def add_features(calldata, lags):\n",
    "    for lag in range(1, lags + 1):\n",
    "        data[f'lag_{lag}'] = data['Demand']"
   ]
  }
 ],
 "metadata": {
  "kernelspec": {
   "display_name": "Python 3",
   "language": "python",
   "name": "python3"
  },
  "language_info": {
   "codemirror_mode": {
    "name": "ipython",
    "version": 3
   },
   "file_extension": ".py",
   "mimetype": "text/x-python",
   "name": "python",
   "nbconvert_exporter": "python",
   "pygments_lexer": "ipython3",
   "version": "3.10.7"
  }
 },
 "nbformat": 4,
 "nbformat_minor": 2
}
