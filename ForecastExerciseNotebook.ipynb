{
 "cells": [
  {
   "cell_type": "markdown",
   "metadata": {},
   "source": [
    "# Univariate Demand Forecasting of 911 Calls"
   ]
  },
  {
   "cell_type": "markdown",
   "metadata": {},
   "source": [
    "## Libraries"
   ]
  },
  {
   "cell_type": "code",
   "execution_count": 16,
   "metadata": {},
   "outputs": [],
   "source": [
    "import pandas as pd\n",
    "import numpy as np\n",
    "from sklearn.model_selection import train_test_split\n",
    "import torch\n",
    "from torch.utils.data import DataLoader, TensorDataset"
   ]
  },
  {
   "cell_type": "code",
   "execution_count": null,
   "metadata": {},
   "outputs": [],
   "source": [
    "# Read CSV Data\n",
    "raw_data = pd.read_csv('CLT_FY18-24.csv')\n",
    "\n",
    "# (Per PM Directions. 'Other' has potentially relevant fire calls too)\n",
    "# Filter for EMS\n",
    "ems_calldata = raw_data[raw_data['CauseCategory'] == 'EMS'].reset_index()\n",
    "\n",
    "# 'Dispatched' to hold value from pandas datetime func\n",
    "ems_calldata['Dispatched'] = pd.to_datetime(ems_calldata['Dispatched'])\n",
    "\n",
    "# Get Date from 'Dispatched'\n",
    "ems_calldata['Date'] = ems_calldata['Dispatched'].dt.date\n",
    "\n",
    "# Extract date info and time from 'Dispatched'\n",
    "ems_calldata['Date'] = ems_calldata['Dispatched'].dt.date\n",
    "ems_calldata['Year'] = ems_calldata['Dispatched'].dt.year\n",
    "ems_calldata['Month'] = ems_calldata['Dispatched'].dt.month\n",
    "ems_calldata['Day'] = ems_calldata['Dispatched'].dt.day\n",
    "ems_calldata['Time'] = ems_calldata['Dispatched'].dt.time\n",
    "\n",
    "# Sort by 'Dispatched'\n",
    "ems_calldata = ems_calldata.sort_values('Dispatched')\n",
    "\n",
    "# Floor the hour?\n",
    "#ems_calldata['Time'] = ems_calldata['Dispatched'].dt.floor('H')\n",
    "\n",
    "# Organize by 'Dispatched' (per hour) and lat&lon\n",
    "ems_sorted_data = ems_calldata.groupby(['Latitude', 'Longitude', 'Dispatched']).size().reset_index(name='Demand')\n",
    "\n",
    "# Identify Relevant attributes from Dispatched / Date-Time\n",
    "ems_sorted_data['day_of_week'] = ems_sorted_data['Dispatched'].dt.dayofweek\n",
    "ems_sorted_data['hour_of_day'] = ems_sorted_data['Dispatched'].dt.hour\n",
    "\n",
    "# Normalize Demand (optional but recommended for LSTM ? Why is this?)\n",
    "# standard deviation?\n",
    "ems_sorted_data['Demand'] = (ems_sorted_data['Demand'] - ems_sorted_data['Demand'].mean() / ems_sorted_data['Demand'].std())\n",
    "\n",
    "# Sequence for LSTM - Times Series Length, Hour-based\n",
    "# Retrieves data as far back as sequence_len specifies\n",
    "def generate_sequences(data, sequence_len):\n",
    "    X, y = [], []\n",
    "    for index in range(len(data) - sequence_len):\n",
    "        X.append(data[index:index+sequence_len])\n",
    "        y.append(data[index+sequence_len])\n",
    "    return np.array(X), np.array(y)\n",
    "\n",
    "# For 3 days needs 72 hours\n",
    "current_seq_len = 72\n",
    "X_seq, y_seq = generate_sequences(ems_sorted_data['Demand'].values, current_seq_len)\n",
    "\n",
    "# Separate sets for training and testing based on the available data\n",
    "X_train, X_test, y_train, y_test = train_test_split(X_seq, y_seq, test_size=0.2, random_state=42)\n",
    "\n",
    "# Prepare for LSTM model building - params(samples, timestamps, features)\n",
    "X_train = X_train.reshape((X_train.shape[0], X_train.shape[1], 1))\n",
    "X_test = X_test.reshape((X_test.shape[0], X_test.shape[1], 1))\n",
    "\n",
    "X_train = torch.tensor(X_train, dtype=torch.float32).unsqueeze(-1)  # Add feature dimension\n",
    "y_train = torch.tensor(y_train, dtype=torch.float32)\n",
    "X_test = torch.tensor(X_test, dtype=torch.float32).unsqueeze(-1)\n",
    "y_test = torch.tensor(y_test, dtype=torch.float32)\n",
    "\n",
    "# Create DataLoader for training\n",
    "train_dataset = TensorDataset(X_train, y_train)\n",
    "train_loader = DataLoader(train_dataset, batch_size=32, shuffle=True)\n",
    "\n",
    "# Call frequency by date\n",
    "freq_count = ems_calldata.groupby('Date').size().reset_index(name='Count')\n",
    "\n",
    "freq_count\n"
   ]
  },
  {
   "cell_type": "markdown",
   "metadata": {},
   "source": [
    "## Model Building - LTSM"
   ]
  },
  {
   "cell_type": "code",
   "execution_count": null,
   "metadata": {},
   "outputs": [],
   "source": [
    "model = "
   ]
  }
 ],
 "metadata": {
  "kernelspec": {
   "display_name": ".venv",
   "language": "python",
   "name": "python3"
  },
  "language_info": {
   "codemirror_mode": {
    "name": "ipython",
    "version": 3
   },
   "file_extension": ".py",
   "mimetype": "text/x-python",
   "name": "python",
   "nbconvert_exporter": "python",
   "pygments_lexer": "ipython3",
   "version": "3.13.1"
  }
 },
 "nbformat": 4,
 "nbformat_minor": 2
}
